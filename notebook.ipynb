{
 "cells": [
  {
   "metadata": {},
   "cell_type": "markdown",
   "source": "# Dependencies",
   "id": "8a77807f92f26ee"
  },
  {
   "metadata": {
    "ExecuteTime": {
     "end_time": "2025-05-23T18:44:13.898904Z",
     "start_time": "2025-05-23T18:43:53.390484Z"
    }
   },
   "cell_type": "code",
   "source": "!pip3 install -U -q pandas tldextract urllib3 scikit-learn\n",
   "id": "fbc121e30a2defb3",
   "outputs": [],
   "execution_count": 8
  },
  {
   "metadata": {},
   "cell_type": "markdown",
   "source": "# Imports",
   "id": "e9380ef24bcd92ab"
  },
  {
   "metadata": {
    "ExecuteTime": {
     "end_time": "2025-05-23T18:44:50.908178Z",
     "start_time": "2025-05-23T18:44:50.418859Z"
    }
   },
   "cell_type": "code",
   "source": [
    "import pandas as pd\n",
    "from urllib.parse import urlparse\n",
    "import tldextract\n",
    "from sklearn.preprocessing import LabelEncoder\n",
    "from sklearn.preprocessing import MinMaxScaler"
   ],
   "id": "f9b1bb735b97e577",
   "outputs": [],
   "execution_count": 9
  },
  {
   "metadata": {},
   "cell_type": "markdown",
   "source": "### Pre processing",
   "id": "d98a33a3d62cc063"
  },
  {
   "metadata": {
    "ExecuteTime": {
     "end_time": "2025-05-23T19:17:43.050544Z",
     "start_time": "2025-05-23T19:17:27.346812Z"
    }
   },
   "cell_type": "code",
   "source": [
    "data = pd.read_csv(\"malicious_phish.csv\")\n",
    "data[\"url\"].duplicated().sum()\n",
    "\n",
    "def is_valid_url(url):\n",
    "    try:\n",
    "        urlparse(url)\n",
    "        return True\n",
    "    except Exception:\n",
    "        return False\n",
    "\n",
    "def add_protocol(url):\n",
    "    if not url.startswith(('http://', 'https://')):\n",
    "        return 'http://' + url\n",
    "    return url\n",
    "\n",
    "def extract_domain_length(url):\n",
    "    parsed_url = urlparse(url)\n",
    "    return len(parsed_url.netloc)\n",
    "\n",
    "def extract_domain_num(url):\n",
    "    parsed_url = urlparse(url)\n",
    "    return parsed_url.netloc.count('.')\n",
    "\n",
    "def extract_has_hyphen(url):\n",
    "    parsed_url = urlparse(url)\n",
    "    domain = parsed_url.netloc\n",
    "    return int('-' in domain)\n",
    "\n",
    "def extract_path_length(url):\n",
    "    parsed_url = urlparse(url)\n",
    "    return len(parsed_url.path)\n",
    "\n",
    "def extract_num_path_segments(url):\n",
    "    parsed_url = urlparse(url)\n",
    "    return parsed_url.path.count('/')\n",
    "\n",
    "def extract_tld_length(url):\n",
    "    tld_info = tldextract.extract(url)\n",
    "    return len(tld_info.suffix)\n",
    "\n",
    "def extract_is_https(url):\n",
    "    parsed_url = urlparse(url)\n",
    "    return int(parsed_url.scheme == 'https')\n",
    "\n",
    "def extract_num_query_params(url):\n",
    "    parsed_url = urlparse(url)\n",
    "    return len(parsed_url.query.split('&'))\n",
    "\n",
    "def extract_has_redirect(url):\n",
    "    return int('->' in url)\n",
    "\n",
    "shortened_urls = [\"bit.ly\", \"t.co\", \"ow.ly\"]\n",
    "def is_shortened(url):\n",
    "    return int(any(short_url in url for short_url in shortened_urls))\n",
    "\n",
    "\n",
    "data[\"url\"] = data[\"url\"].apply(add_protocol)\n",
    "data = data[data[\"url\"].apply(is_valid_url)].copy()\n",
    "\n",
    "data[\"url_length\"] = data[\"url\"].apply(len)\n",
    "data[\"domain_length\"] = data[\"url\"].apply(extract_domain_length)\n",
    "data[\"domain_num\"] = data[\"url\"].apply(extract_domain_num)\n",
    "data[\"has_hyphen\"] = data[\"url\"].apply(extract_has_hyphen)\n",
    "data[\"path_length\"] = data[\"url\"].apply(extract_path_length)\n",
    "data[\"num_path_segments\"] = data[\"url\"].apply(extract_num_path_segments)\n",
    "data[\"tld_length\"] = data[\"url\"].apply(extract_tld_length)\n",
    "data[\"is_https\"] = data[\"url\"].apply(extract_is_https)\n",
    "data[\"num_query_params\"] = data[\"url\"].apply(extract_num_query_params)\n",
    "data[\"has_redirect\"] = data[\"url\"].apply(extract_has_redirect)\n",
    "data[\"is_shorted\"] = data[\"url\"].apply(is_shortened)\n",
    "\n",
    "data.head()\n",
    "data = data.drop(columns=\"url\")"
   ],
   "id": "acb6db00c35ce019",
   "outputs": [],
   "execution_count": 16
  },
  {
   "metadata": {
    "ExecuteTime": {
     "end_time": "2025-05-23T19:18:34.664094Z",
     "start_time": "2025-05-23T19:18:34.423495Z"
    }
   },
   "cell_type": "code",
   "source": [
    "final = data\n",
    "final[\"type\"] = final[\"type\"].replace({\n",
    "    \"benign\": 0,\n",
    "    \"phishing\": 1,\n",
    "    \"malware\": 1,\n",
    "    \"defacement\": 1\n",
    "}).infer_objects(copy=False)\n",
    "scaler = MinMaxScaler()\n",
    "final = scaler.fit_transform(final)\n",
    "final.head()"
   ],
   "id": "aac7e50a019aa61a",
   "outputs": [
    {
     "name": "stderr",
     "output_type": "stream",
     "text": [
      "C:\\Users\\lyncon.baez\\AppData\\Local\\Temp\\ipykernel_761204\\3465027115.py:2: FutureWarning: Downcasting behavior in `replace` is deprecated and will be removed in a future version. To retain the old behavior, explicitly call `result.infer_objects(copy=False)`. To opt-in to the future behavior, set `pd.set_option('future.no_silent_downcasting', True)`\n",
      "  final[\"type\"] = final[\"type\"].replace({\n"
     ]
    },
    {
     "ename": "AttributeError",
     "evalue": "'numpy.ndarray' object has no attribute 'head'",
     "output_type": "error",
     "traceback": [
      "\u001B[31m---------------------------------------------------------------------------\u001B[39m",
      "\u001B[31mAttributeError\u001B[39m                            Traceback (most recent call last)",
      "\u001B[36mCell\u001B[39m\u001B[36m \u001B[39m\u001B[32mIn[17]\u001B[39m\u001B[32m, line 10\u001B[39m\n\u001B[32m      8\u001B[39m scaler = MinMaxScaler()\n\u001B[32m      9\u001B[39m final = scaler.fit_transform(final)\n\u001B[32m---> \u001B[39m\u001B[32m10\u001B[39m \u001B[43mfinal\u001B[49m\u001B[43m.\u001B[49m\u001B[43mhead\u001B[49m()\n",
      "\u001B[31mAttributeError\u001B[39m: 'numpy.ndarray' object has no attribute 'head'"
     ]
    }
   ],
   "execution_count": 17
  },
  {
   "metadata": {},
   "cell_type": "code",
   "outputs": [],
   "execution_count": null,
   "source": "",
   "id": "54ebc52fcfdfc4a4"
  }
 ],
 "metadata": {
  "kernelspec": {
   "display_name": "Python 3",
   "language": "python",
   "name": "python3"
  },
  "language_info": {
   "codemirror_mode": {
    "name": "ipython",
    "version": 2
   },
   "file_extension": ".py",
   "mimetype": "text/x-python",
   "name": "python",
   "nbconvert_exporter": "python",
   "pygments_lexer": "ipython2",
   "version": "2.7.6"
  }
 },
 "nbformat": 4,
 "nbformat_minor": 5
}
