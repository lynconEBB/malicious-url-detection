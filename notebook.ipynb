{
 "cells": [
  {
   "metadata": {},
   "cell_type": "markdown",
   "source": "# Dependencies",
   "id": "8a77807f92f26ee"
  },
  {
   "metadata": {
    "ExecuteTime": {
     "end_time": "2025-05-21T18:51:01.053830Z",
     "start_time": "2025-05-21T18:50:59.872224Z"
    }
   },
   "cell_type": "code",
   "source": "!pip3 install -U -q pandas tldextract urllib3\n",
   "id": "fbc121e30a2defb3",
   "outputs": [],
   "execution_count": 22
  },
  {
   "metadata": {},
   "cell_type": "markdown",
   "source": "# Imports",
   "id": "e9380ef24bcd92ab"
  },
  {
   "metadata": {
    "ExecuteTime": {
     "end_time": "2025-05-21T19:51:44.108742Z",
     "start_time": "2025-05-21T19:51:43.895097Z"
    }
   },
   "cell_type": "code",
   "source": [
    "import pandas as pd\n",
    "from urllib.parse import urlparse\n",
    "import tldextract"
   ],
   "id": "f9b1bb735b97e577",
   "outputs": [],
   "execution_count": 47
  },
  {
   "metadata": {},
   "cell_type": "markdown",
   "source": "### Pre processing",
   "id": "d98a33a3d62cc063"
  },
  {
   "metadata": {
    "ExecuteTime": {
     "end_time": "2025-05-21T19:47:22.521512Z",
     "start_time": "2025-05-21T19:47:15.384908Z"
    }
   },
   "cell_type": "code",
   "source": [
    "data = pd.read_csv(\"malicious_phish.csv\")\n",
    "data[\"url\"].duplicated().sum()\n",
    "\n",
    "def is_valid_url(url):\n",
    "    try:\n",
    "        urlparse(url)\n",
    "        return True\n",
    "    except Exception:\n",
    "        return False\n",
    "\n",
    "def add_protocol(url):\n",
    "    if not url.startswith(('http://', 'https://')):\n",
    "        return 'http://' + url\n",
    "    return url\n",
    "\n",
    "def extract_domain_length(url):\n",
    "    parsed_url = urlparse(url)\n",
    "    return len(parsed_url.netloc)\n",
    "\n",
    "def extract_domain_num(url):\n",
    "    parsed_url = urlparse(url)\n",
    "    return parsed_url.netloc.count('.')\n",
    "\n",
    "def extract_has_hyphen(url):\n",
    "    parsed_url = urlparse(url)\n",
    "    domain = parsed_url.netloc\n",
    "    return '-' in domain\n",
    "\n",
    "def extract_path_length(url):\n",
    "    parsed_url = urlparse(url)\n",
    "    return len(parsed_url.path)\n",
    "\n",
    "def extract_num_path_segments(url):\n",
    "    parsed_url = urlparse(url)\n",
    "    return parsed_url.path.count('/')\n",
    "\n",
    "def extract_tld_length(url):\n",
    "    tld_info = tldextract.extract(url)\n",
    "    return len(tld_info.suffix)\n",
    "\n",
    "def extract_is_https(url):\n",
    "    parsed_url = urlparse(url)\n",
    "    return parsed_url.scheme == 'https'\n",
    "\n",
    "def extract_num_query_params(url):\n",
    "    parsed_url = urlparse(url)\n",
    "    return len(parsed_url.query.split('&'))\n",
    "\n",
    "def extract_has_query(url):\n",
    "\n",
    "\n",
    "data[\"url\"] = data[\"url\"].apply(add_protocol)\n",
    "data = data[data[\"url\"].apply(is_valid_url)].copy()\n",
    "\n",
    "data[\"domain_length\"] = data[\"url\"].apply(extract_domain_length)\n",
    "data[\"domain_num\"] = data[\"url\"].apply(extract_domain_num)\n",
    "data[\"has_hyphen\"] = data[\"url\"].apply(extract_has_hyphen)\n",
    "\n",
    "\n",
    "\n",
    "data.head()"
   ],
   "id": "acb6db00c35ce019",
   "outputs": [
    {
     "data": {
      "text/plain": [
       "                                                 url        type  \\\n",
       "0                            http://br-icloud.com.br    phishing   \n",
       "1         http://mp3raid.com/music/krizz_kaliko.html      benign   \n",
       "2             http://bopsecrets.org/rexroth/cr/1.htm      benign   \n",
       "3  http://www.garage-pirenne.be/index.php?option=...  defacement   \n",
       "4  http://adventure-nicaragua.net/index.php?optio...  defacement   \n",
       "\n",
       "   domain_length  domain_num  has_hyphen  \n",
       "0             16           2        True  \n",
       "1             11           1       False  \n",
       "2             14           1       False  \n",
       "3             21           2        True  \n",
       "4             23           1        True  "
      ],
      "text/html": [
       "<div>\n",
       "<style scoped>\n",
       "    .dataframe tbody tr th:only-of-type {\n",
       "        vertical-align: middle;\n",
       "    }\n",
       "\n",
       "    .dataframe tbody tr th {\n",
       "        vertical-align: top;\n",
       "    }\n",
       "\n",
       "    .dataframe thead th {\n",
       "        text-align: right;\n",
       "    }\n",
       "</style>\n",
       "<table border=\"1\" class=\"dataframe\">\n",
       "  <thead>\n",
       "    <tr style=\"text-align: right;\">\n",
       "      <th></th>\n",
       "      <th>url</th>\n",
       "      <th>type</th>\n",
       "      <th>domain_length</th>\n",
       "      <th>domain_num</th>\n",
       "      <th>has_hyphen</th>\n",
       "    </tr>\n",
       "  </thead>\n",
       "  <tbody>\n",
       "    <tr>\n",
       "      <th>0</th>\n",
       "      <td>http://br-icloud.com.br</td>\n",
       "      <td>phishing</td>\n",
       "      <td>16</td>\n",
       "      <td>2</td>\n",
       "      <td>True</td>\n",
       "    </tr>\n",
       "    <tr>\n",
       "      <th>1</th>\n",
       "      <td>http://mp3raid.com/music/krizz_kaliko.html</td>\n",
       "      <td>benign</td>\n",
       "      <td>11</td>\n",
       "      <td>1</td>\n",
       "      <td>False</td>\n",
       "    </tr>\n",
       "    <tr>\n",
       "      <th>2</th>\n",
       "      <td>http://bopsecrets.org/rexroth/cr/1.htm</td>\n",
       "      <td>benign</td>\n",
       "      <td>14</td>\n",
       "      <td>1</td>\n",
       "      <td>False</td>\n",
       "    </tr>\n",
       "    <tr>\n",
       "      <th>3</th>\n",
       "      <td>http://www.garage-pirenne.be/index.php?option=...</td>\n",
       "      <td>defacement</td>\n",
       "      <td>21</td>\n",
       "      <td>2</td>\n",
       "      <td>True</td>\n",
       "    </tr>\n",
       "    <tr>\n",
       "      <th>4</th>\n",
       "      <td>http://adventure-nicaragua.net/index.php?optio...</td>\n",
       "      <td>defacement</td>\n",
       "      <td>23</td>\n",
       "      <td>1</td>\n",
       "      <td>True</td>\n",
       "    </tr>\n",
       "  </tbody>\n",
       "</table>\n",
       "</div>"
      ]
     },
     "execution_count": 46,
     "metadata": {},
     "output_type": "execute_result"
    }
   ],
   "execution_count": 46
  },
  {
   "metadata": {},
   "cell_type": "code",
   "outputs": [],
   "execution_count": null,
   "source": "",
   "id": "aac7e50a019aa61a"
  },
  {
   "metadata": {},
   "cell_type": "code",
   "outputs": [],
   "execution_count": null,
   "source": "",
   "id": "54ebc52fcfdfc4a4"
  }
 ],
 "metadata": {
  "kernelspec": {
   "display_name": "Python 3",
   "language": "python",
   "name": "python3"
  },
  "language_info": {
   "codemirror_mode": {
    "name": "ipython",
    "version": 2
   },
   "file_extension": ".py",
   "mimetype": "text/x-python",
   "name": "python",
   "nbconvert_exporter": "python",
   "pygments_lexer": "ipython2",
   "version": "2.7.6"
  }
 },
 "nbformat": 4,
 "nbformat_minor": 5
}
